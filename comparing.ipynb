{
 "cells": [
  {
   "cell_type": "code",
   "execution_count": 44,
   "metadata": {},
   "outputs": [],
   "source": [
    "import re\n",
    "import os\n",
    "import pandas as pd\n",
    "from langchain_ollama import OllamaLLM\n",
    "from langchain_core.prompts import ChatPromptTemplate\n",
    "import PyPDF2\n",
    "import requests\n",
    "from io import BytesIO\n",
    "import json"
   ]
  },
  {
   "cell_type": "code",
   "execution_count": 45,
   "metadata": {},
   "outputs": [],
   "source": [
    "# Function to extract text from a PDF (if needed)\n",
    "def extract_text_from_pdf(pdf_path):\n",
    "    text = \"\"\n",
    "    with open(pdf_path, 'rb') as file:\n",
    "        pdf_reader = PyPDF2.PdfReader(file)\n",
    "        for page in pdf_reader.pages:\n",
    "            text += page.extract_text() + \"\\n\"\n",
    "    return text"
   ]
  },
  {
   "cell_type": "code",
   "execution_count": 46,
   "metadata": {},
   "outputs": [],
   "source": [
    "def extract_metrics(document_text, document_name):\n",
    "    # Create a simple prompt for metric extraction\n",
    "    template = \"\"\"Extract the following financial metrics from the document:\n",
    "- Total Revenue\n",
    "- Net Income\n",
    "- Gross Margin (%)\n",
    "- Operating Income\n",
    "- EBITDA\n",
    "- Cash Flow from Operations\n",
    "- Debt-to-Equity Ratio\n",
    "\n",
    "For each metric, provide the value and which year/period it refers to.\n",
    "If you cannot find a metric, state \"Not found\" for that metric.\n",
    "\n",
    "Here is the document information:\n",
    "Document name: {doc_name}\n",
    "Document text: {text}\n",
    "\"\"\"\n",
    "    \n",
    "    # Use your existing function with the simplified template\n",
    "    model = OllamaLLM(model=\"llama3\", temperature=0.1)\n",
    "    prompt = ChatPromptTemplate.from_template(template)\n",
    "    chain = prompt | model\n",
    "    result = chain.invoke({\"text\": document_text, \"doc_name\": document_name})\n",
    "    \n",
    "    return result"
   ]
  },
  {
   "cell_type": "code",
   "execution_count": 47,
   "metadata": {},
   "outputs": [],
   "source": [
    "meta_text = extract_text_from_pdf('data/input/Annual_Reports_Meta.pdf')\n",
    "doc_met_name = 'Annual_Reports_Meta.pdf'"
   ]
  },
  {
   "cell_type": "code",
   "execution_count": 48,
   "metadata": {},
   "outputs": [
    {
     "name": "stdout",
     "output_type": "stream",
     "text": [
      "I've extracted the financial metrics from the document:\n",
      "\n",
      "* Total Revenue: Not mentioned in this document.\n",
      "* Net Income: Not mentioned in this document.\n",
      "\n",
      "Note that these metrics are typically reported in a company's annual report (Form 10-K) or quarterly report (Form 10-Q). Since this is an Annual Report on Form 10-K, you would expect to find financial information such as revenue and net income. However, it appears that this specific document does not provide those details.\n"
     ]
    }
   ],
   "source": [
    "llama_output = extract_metrics(document_text=meta_text,document_name=doc_met_name)\n",
    "print(llama_output)"
   ]
  },
  {
   "cell_type": "code",
   "execution_count": null,
   "metadata": {},
   "outputs": [],
   "source": []
  },
  {
   "cell_type": "code",
   "execution_count": 49,
   "metadata": {},
   "outputs": [
    {
     "name": "stdout",
     "output_type": "stream",
     "text": [
      "I've extracted the following financial metrics from the document:\n",
      "\n",
      "* Total Revenue: Not explicitly stated in this document.\n",
      "* Net Income: Not explicitly stated in this document.\n",
      "\n",
      "Note that these metrics are typically reported in an annual report (Form 10-K) or quarterly report (Form 10-Q), but they are not present in this specific document. If you're looking for financial information, I recommend searching for Alphabet Inc.'s publicly filed reports with the Securities and Exchange Commission (SEC).\n"
     ]
    }
   ],
   "source": [
    "google_text = extract_text_from_pdf('data/input/Annual_Reports_Google.pdf')\n",
    "doc_goog_name = 'Annual_Reports_Google.pdf'\n",
    "\n",
    "llama_output = extract_metrics(document_text=google_text,document_name=doc_goog_name)\n",
    "print(llama_output)"
   ]
  },
  {
   "cell_type": "code",
   "execution_count": null,
   "metadata": {},
   "outputs": [],
   "source": []
  },
  {
   "cell_type": "code",
   "execution_count": 50,
   "metadata": {},
   "outputs": [
    {
     "name": "stdout",
     "output_type": "stream",
     "text": [
      "There are no financial metrics mentioned in the provided document. The document appears to be a policy or guideline related to accounting restatements and incentive compensation, but it does not include any specific financial data such as total revenue or net income.\n"
     ]
    }
   ],
   "source": [
    "microsoft_text = extract_text_from_pdf('data/input/Annual_Reports_Microsoft.pdf')\n",
    "doc_mic_name = 'Annual_Reports_Microsoft.pdf'\n",
    "\n",
    "llama_output = extract_metrics(document_text=microsoft_text,document_name=doc_mic_name)\n",
    "print(llama_output)"
   ]
  },
  {
   "cell_type": "code",
   "execution_count": null,
   "metadata": {},
   "outputs": [],
   "source": []
  },
  {
   "cell_type": "code",
   "execution_count": 51,
   "metadata": {},
   "outputs": [
    {
     "name": "stdout",
     "output_type": "stream",
     "text": [
      "There are no financial metrics mentioned in this document. The text appears to be certifications and exhibits related to an Annual Report on Form 10-K, but it does not provide specific financial data such as Total Revenue or Net Income.\n"
     ]
    }
   ],
   "source": [
    "nvidia_text = extract_text_from_pdf('data/input/Annual_Reports_NVIDIA.pdf')\n",
    "doc_nvd_name = 'Annual_Reports_NVIDIA.pdf'\n",
    "\n",
    "llama_output = extract_metrics(document_text=nvidia_text,document_name=doc_nvd_name)\n",
    "print(llama_output)"
   ]
  },
  {
   "cell_type": "code",
   "execution_count": null,
   "metadata": {},
   "outputs": [],
   "source": []
  },
  {
   "cell_type": "code",
   "execution_count": 52,
   "metadata": {},
   "outputs": [
    {
     "name": "stdout",
     "output_type": "stream",
     "text": [
      "Unfortunately, the provided document does not contain the financial metrics you requested. The document appears to be a Form 10-K filing with the Securities and Exchange Commission (SEC), which is an annual report that provides information about a company's business, financial condition, and results of operations.\n",
      "\n",
      "However, I can suggest some possible ways to extract the financial metrics you're looking for:\n",
      "\n",
      "1. Check the \"Item 8. Financial Statements and Supplementary Data\" section: This section typically includes the company's financial statements, including the Balance Sheet, Income Statement, and Cash Flow Statement.\n",
      "2. Look for the \"Summary\" or \"Financial Highlights\" section: This section may provide an overview of the company's financial performance, including key metrics such as revenue, net income, and cash flow.\n",
      "3. Check the company's website or investor relations page: Many companies publish their financial reports and other investor-related materials on their websites.\n",
      "\n",
      "If you're unable to find the specific financial metrics you're looking for in this document, I recommend searching for more recent filings or seeking out publicly available financial information from reputable sources.\n"
     ]
    }
   ],
   "source": [
    "tesla_text = extract_text_from_pdf('data/input/Annual_Reports_Tesla.pdf')\n",
    "doc_tes_name = 'Annual_Reports_Tesla.pdf'\n",
    "\n",
    "llama_output = extract_metrics(document_text=tesla_text,document_name=doc_tes_name)\n",
    "print(llama_output)"
   ]
  },
  {
   "cell_type": "markdown",
   "metadata": {},
   "source": [
    "# Standard RAG"
   ]
  },
  {
   "cell_type": "code",
   "execution_count": 53,
   "metadata": {},
   "outputs": [],
   "source": [
    "# Add these imports at the top of your notebook\n",
    "from langchain_community.vectorstores import FAISS\n",
    "from langchain_community.embeddings import HuggingFaceEmbeddings\n",
    "from langchain_text_splitters import RecursiveCharacterTextSplitter\n",
    "\n",
    "# Simple RAG function that doesn't require vector databases or embeddings\n",
    "def extract_metrics_with_simple_rag(document_text, document_name):\n",
    "    # 1. Split the document into chunks (simple approach)\n",
    "    chunks = []\n",
    "    paragraphs = document_text.split('\\n\\n')\n",
    "    for para in paragraphs:\n",
    "        if len(para) > 50:  # Skip very short paragraphs\n",
    "            chunks.append(para)\n",
    "    \n",
    "    # 2. Find relevant chunks using keyword matching\n",
    "    financial_keywords = {\n",
    "        \"Total Revenue\": [\"revenue\", \"total revenue\", \"net revenue\", \"sales\", \"total sales\"],\n",
    "        \"Net Income\": [\"net income\", \"profit\", \"earnings\", \"net earnings\", \"net profit\"],\n",
    "        \"Gross Margin\": [\"gross margin\", \"margin\", \"gross profit margin\"],\n",
    "        \"Operating Income\": [\"operating income\", \"operating profit\", \"income from operations\"],\n",
    "        \"EBITDA\": [\"ebitda\", \"earnings before interest\", \"interest taxes depreciation\"],\n",
    "        \"Cash Flow from Operations\": [\"cash flow\", \"operating cash flow\", \"cash from operations\"],\n",
    "        \"Debt-to-Equity Ratio\": [\"debt to equity\", \"debt-to-equity\", \"debt ratio\", \"leverage ratio\"]\n",
    "    }\n",
    "    \n",
    "    # Store relevant chunks for each metric\n",
    "    relevant_chunks = {}\n",
    "    for metric, keywords in financial_keywords.items():\n",
    "        relevant_chunks[metric] = []\n",
    "        for chunk in chunks:\n",
    "            chunk_lower = chunk.lower()\n",
    "            # Check if any keyword for this metric is in the chunk\n",
    "            if any(keyword in chunk_lower for keyword in keywords):\n",
    "                relevant_chunks[metric].append(chunk)\n",
    "                \n",
    "    # 3. Build context for Llama 3\n",
    "    context = \"\"\n",
    "    for metric, chunks in relevant_chunks.items():\n",
    "        if chunks:\n",
    "            context += f\"\\n{metric} relevant information:\\n\"\n",
    "            # Limit to 3 most relevant chunks per metric to avoid context overflow\n",
    "            for i, chunk in enumerate(chunks[:3]):\n",
    "                context += f\"--- Chunk {i+1} ---\\n{chunk}\\n\\n\"\n",
    "    \n",
    "    # If we didn't find any relevant chunks, use a few chunks containing financial terms\n",
    "    if not context:\n",
    "        financial_terms = [\"financial\", \"million\", \"billion\", \"dollar\", \"percent\", \"revenue\", \"income\"]\n",
    "        general_financial_chunks = []\n",
    "        for chunk in chunks:\n",
    "            chunk_lower = chunk.lower()\n",
    "            if any(term in chunk_lower for term in financial_terms):\n",
    "                general_financial_chunks.append(chunk)\n",
    "        \n",
    "        # Take up to 5 random financial chunks\n",
    "        import random\n",
    "        sample_size = min(5, len(general_financial_chunks))\n",
    "        if sample_size > 0:\n",
    "            sampled_chunks = random.sample(general_financial_chunks, sample_size)\n",
    "            context = \"\\nGeneral financial information:\\n\"\n",
    "            for i, chunk in enumerate(sampled_chunks):\n",
    "                context += f\"--- Chunk {i+1} ---\\n{chunk}\\n\\n\"\n",
    "    \n",
    "    # 4. Create prompt for Llama 3 with the context\n",
    "    template = \"\"\"You are a financial analyst extracting metrics from a financial document.\n",
    "Extract the following financial metrics from the document:\n",
    "- Total Revenue\n",
    "- Net Income\n",
    "- Gross Margin (%)\n",
    "- Operating Income\n",
    "- EBITDA\n",
    "- Cash Flow from Operations\n",
    "- Debt-to-Equity Ratio\n",
    "\n",
    "For each metric, provide the value and which year/period it refers to.\n",
    "If you cannot find a metric, state \"Not found\" for that metric.\n",
    "\n",
    "I have pre-selected the most relevant parts of the document for you:\n",
    "{context}\n",
    "\n",
    "Document name: {doc_name}\n",
    "\n",
    "Make sure to only extract information that's actually present in these sections. Don't hallucinate values.\n",
    "\"\"\"\n",
    "    \n",
    "    # Use Llama 3 to extract metrics with the context\n",
    "    model = OllamaLLM(model=\"llama3\", temperature=0.1)\n",
    "    prompt = ChatPromptTemplate.from_template(template)\n",
    "    chain = prompt | model\n",
    "    result = chain.invoke({\"context\": context, \"doc_name\": document_name})\n",
    "    \n",
    "    return result"
   ]
  },
  {
   "cell_type": "code",
   "execution_count": 54,
   "metadata": {},
   "outputs": [
    {
     "name": "stdout",
     "output_type": "stream",
     "text": [
      "=== Simple RAG Output ===\n",
      "After reviewing the financial document, I extracted the following metrics:\n",
      "\n",
      "**Financial Metrics**\n",
      "\n",
      "1. **Date**: January 29, 2025\n",
      "2. **Company Name**: Meta Platforms, Inc.\n",
      "\n",
      "**Management Signatures**\n",
      "\n",
      "1. **Chairman and Chief Executive Officer**: Mark Zuckerberg (January 29, 2025)\n",
      "2. **Chief Financial Officer**: Susan Li (January 29, 2025)\n",
      "3. **Chief Accounting Officer**: Aaron Anderson (January 29, 2025)\n",
      "\n",
      "**Board of Directors Signatures**\n",
      "\n",
      "1. **Director**: Peggy Alford (January 29, 2025)\n",
      "2. **Director**: Marc L. Andreessen (January 29, 2025)\n",
      "3. **Director**: John Arnold (January 29, 2025)\n",
      "4. **Director**: Andrew W. Houston (January 29, 2025)\n",
      "5. **Director**: Nancy Killefer (January 29, 2025)\n",
      "6. **Director**: Robert M. Kimmitt (January 29, 2025)\n",
      "7. **Director**: Hock E. Tan (January 29, 2025)\n",
      "8. **Director**: Tracey T. Travis (January 29, 2025)\n",
      "9. **Director**: Tony Xu (January 29, 2025)\n",
      "\n",
      "**Note**: John Elkann, Charles Songhurst, and Dana White were elected to the board of directors effective December 30, 2024, but did not sign this Annual Report on Form 10-K.\n",
      "\n",
      "Please let me know if you'd like me to extract any other information from this document.\n"
     ]
    }
   ],
   "source": [
    "meta_rag_output = extract_metrics_with_simple_rag(document_text=meta_text, document_name=doc_met_name)\n",
    "print(\"=== Simple RAG Output ===\")\n",
    "print(meta_rag_output)"
   ]
  },
  {
   "cell_type": "code",
   "execution_count": null,
   "metadata": {},
   "outputs": [],
   "source": []
  },
  {
   "cell_type": "code",
   "execution_count": null,
   "metadata": {},
   "outputs": [],
   "source": []
  },
  {
   "cell_type": "markdown",
   "metadata": {},
   "source": [
    "# Agentics RAG"
   ]
  },
  {
   "cell_type": "code",
   "execution_count": 55,
   "metadata": {},
   "outputs": [],
   "source": [
    "def extract_with_agentic_rag(company, period, document_text):\n",
    "    # First, ask the LLM to plan the information needs\n",
    "    planning_prompt = f\"To find financial metrics for {company} in {period}, what specific information should I look for and where in a financial report would I find it?\"\n",
    "    plan = llama_model.invoke(planning_prompt)\n",
    "    \n",
    "    # Then search for relevant sections based on the plan\n",
    "    sections = find_sections_based_on_plan(document_text, plan)\n",
    "    \n",
    "    # Finally extract and verify the information\n",
    "    extraction_prompt = f\"\"\"\n",
    "    Based on this plan: {plan}\n",
    "    \n",
    "    And these financial sections:\n",
    "    {sections}\n",
    "    \n",
    "    Extract the precise values for total revenue, net income, and gross margin.\n",
    "    Then verify these values by checking if they match calculations or other mentions in the document.\n",
    "    \"\"\"\n",
    "    return llama_model.invoke(extraction_prompt)"
   ]
  },
  {
   "cell_type": "code",
   "execution_count": null,
   "metadata": {},
   "outputs": [],
   "source": []
  },
  {
   "cell_type": "code",
   "execution_count": null,
   "metadata": {},
   "outputs": [],
   "source": []
  },
  {
   "cell_type": "code",
   "execution_count": null,
   "metadata": {},
   "outputs": [],
   "source": []
  },
  {
   "cell_type": "code",
   "execution_count": 56,
   "metadata": {},
   "outputs": [
    {
     "name": "stdout",
     "output_type": "stream",
     "text": [
      "=== BASIC LLM APPROACH ===\n",
      "Based on Apple's Q4 2023 earnings report:\n",
      "\n",
      "* Total Revenue: $123.9 billion\n",
      "* Net Income: $29.1 billion\n",
      "* Gross Margin: 38.5%\n"
     ]
    }
   ],
   "source": [
    "import pandas as pd\n",
    "\n",
    "# Sample financial text (this would normally come from your document)\n",
    "sample_financial_text = \"\"\"\n",
    "Apple Reports Fourth Quarter Results\n",
    "Company posts quarterly revenue of $89.5 billion\n",
    "Services revenue reaches new all-time high\n",
    "\n",
    "CUPERTINO, California — October 26, 2023 — Apple today announced financial results for its fiscal 2023 fourth quarter ended September 30, 2023. The Company posted quarterly revenue of $89.5 billion, down 1 percent year over year, and quarterly earnings per diluted share of $1.46, up 13 percent year over year.\n",
    "\n",
    "\"Today Apple is reporting revenue growth for the September quarter fueled by iPhone and an all-time revenue record in Services,\" said Tim Cook, Apple's CEO. \"We now have our strongest lineup of products ever heading into the holiday season, including the iPhone 15 lineup and our first carbon neutral Apple Watch models, a major milestone in our work to make all Apple products carbon neutral by 2030.\"\n",
    "\n",
    "\"Our active installed base of devices has again reached a new all-time high across all products and all geographic segments, thanks to very high levels of customer satisfaction and loyalty,\" said Luca Maestri, Apple's CFO. \"During the quarter, our business performance drove double digit EPS growth and we returned nearly $25 billion to our shareholders, all while continuing to invest in our long-term growth plans.\"\n",
    "\n",
    "Apple's board of directors has declared a cash dividend of $0.24 per share of the Company's common stock. The dividend is payable on November 16, 2023 to shareholders of record as of the close of business on November 13, 2023.\n",
    "\n",
    "Financial Performance\n",
    "Gross margin was 45.2 percent, compared to 42.3 percent in the year-ago quarter.\n",
    "Net income was $23.0 billion, up from $20.7 billion in the previous year.\n",
    "\"\"\"\n",
    "\n",
    "# 1. Basic LLM approach\n",
    "def extract_with_basic_llm(company_name=\"Apple\", period=\"Q4 2023\"):\n",
    "    template = f\"\"\"You are a financial analyst extracting metrics from earnings reports.\n",
    "    What were the Total Revenue, Net Income, and Gross Margin for {company_name} in {period}?\n",
    "    Answer with just the metrics and their values.\n",
    "    \"\"\"\n",
    "    \n",
    "    model = OllamaLLM(model=\"llama3\", temperature=0.1)\n",
    "    result = model.invoke(template)\n",
    "    return result\n",
    "\n",
    "# 2. Simple RAG approach\n",
    "def extract_with_simple_rag(financial_text, company_name=\"Apple\", period=\"Q4 2023\"):\n",
    "    template = f\"\"\"You are a financial analyst extracting metrics from earnings reports.\n",
    "    \n",
    "    Here is the relevant financial information:\n",
    "    {financial_text}\n",
    "    \n",
    "    Based on this text, what were the Total Revenue, Net Income, and Gross Margin for {company_name} in {period}?\n",
    "    Answer with just the metrics and their values.\n",
    "    \"\"\"\n",
    "    \n",
    "    model = OllamaLLM(model=\"llama3\", temperature=0.1)\n",
    "    result = model.invoke(template)\n",
    "    return result\n",
    "\n",
    "# 3. Agentic RAG approach\n",
    "def extract_with_agentic_rag(financial_text, company_name=\"Apple\", period=\"Q4 2023\"):\n",
    "    # Step 1: Planning stage - what to look for\n",
    "    planning_template = f\"\"\"You are a financial analyst planning to extract key metrics from financial reports.\n",
    "    \n",
    "    For {company_name}'s {period} results, what specific phrases or sentences should I look for to find:\n",
    "    1. Total Revenue\n",
    "    2. Net Income\n",
    "    3. Gross Margin\n",
    "    \n",
    "    Be specific about the exact phrases and patterns to search for.\n",
    "    \"\"\"\n",
    "    \n",
    "    model = OllamaLLM(model=\"llama3\", temperature=0.1)\n",
    "    plan = model.invoke(planning_template)\n",
    "    \n",
    "    # Step 2: Targeted extraction based on the plan\n",
    "    extraction_template = f\"\"\"You are a financial analyst extracting metrics from earnings reports.\n",
    "    \n",
    "    I'm looking for {company_name}'s {period} financial metrics in this text:\n",
    "    {financial_text}\n",
    "    \n",
    "    Based on this search plan:\n",
    "    {plan}\n",
    "    \n",
    "    First, identify the specific sentences containing each metric.\n",
    "    Then, extract the exact values for Total Revenue, Net Income, and Gross Margin.\n",
    "    Finally, verify these values by checking if they're consistent with other information in the text.\n",
    "    \"\"\"\n",
    "    \n",
    "    result = model.invoke(extraction_template)\n",
    "    return result, plan\n",
    "\n",
    "# Run the comparisons\n",
    "print(\"=== BASIC LLM APPROACH ===\")\n",
    "basic_result = extract_with_basic_llm()\n",
    "print(basic_result)"
   ]
  },
  {
   "cell_type": "code",
   "execution_count": 57,
   "metadata": {},
   "outputs": [
    {
     "name": "stdout",
     "output_type": "stream",
     "text": [
      "\n",
      "=== SIMPLE RAG APPROACH ===\n",
      "Here are the extracted metrics:\n",
      "\n",
      "* Total Revenue: $89.5 billion\n",
      "* Net Income: $23.0 billion\n",
      "* Gross Margin: 45.2%\n"
     ]
    }
   ],
   "source": [
    "print(\"\\n=== SIMPLE RAG APPROACH ===\")\n",
    "rag_result = extract_with_simple_rag(sample_financial_text)\n",
    "print(rag_result)"
   ]
  },
  {
   "cell_type": "code",
   "execution_count": 58,
   "metadata": {},
   "outputs": [
    {
     "name": "stdout",
     "output_type": "stream",
     "text": [
      "\n",
      "=== AGENTIC RAG APPROACH ===\n",
      "Planning Stage:\n",
      "When extracting key metrics from Apple's Q4 2023 financial report, here are some specific phrases and sentences to look for:\n",
      "\n",
      "**1. Total Revenue:**\n",
      "Look for phrases containing \"net sales\" or \"revenue\" followed by a dollar amount. You can also search for sentences starting with \"Revenue was $[amount]\" or \"Net sales were $[amount]\". For example:\n",
      "* \"Net sales were $123.4 billion, up 7% from the year-ago quarter.\"\n",
      "* \"Revenue was $123.4 billion, an increase of 7% compared to the same period in the prior year.\"\n",
      "\n",
      "**2. Net Income:**\n",
      "Search for phrases containing \"net income\" or \"earnings per share (EPS)\" followed by a dollar amount. You can also look for sentences starting with \"Net income was $[amount]\" or \"Earnings per diluted share were $[amount]\". For example:\n",
      "* \"Net income was $29.1 billion, or $2.85 per diluted share.\"\n",
      "* \"Earnings per diluted share were $2.85, up 10% from the year-ago quarter.\"\n",
      "\n",
      "**3. Gross Margin:**\n",
      "Look for phrases containing \"gross margin\" followed by a percentage value. You can also search for sentences starting with \"Gross margin was [percentage]%\" or \"The gross margin was [percentage]%\". For example:\n",
      "* \"Gross margin was 38.5%, up from 37.6% in the year-ago quarter.\"\n",
      "* \"The gross margin was 38.5%, an increase of 60 basis points compared to the same period in the prior year.\"\n",
      "\n",
      "When searching for these metrics, make sure to check the relevant sections of the report, such as the \"Financial Highlights\" or \"Results of Operations\" sections. Additionally, you can also look for tables or charts that provide a summary of Apple's financial performance.\n",
      "\n",
      "Extraction Result:\n",
      "Based on the provided text, I've identified the specific sentences containing each metric:\n",
      "\n",
      "**1. Total Revenue:**\n",
      "The sentence is: \"Company posts quarterly revenue of $89.5 billion...\"\n",
      "\n",
      "**2. Net Income:**\n",
      "The sentence is: \"Net income was $23.0 billion, up from $20.7 billion in the previous year.\"\n",
      "\n",
      "**3. Gross Margin:**\n",
      "The sentence is: \"Gross margin was 45.2 percent, compared to 42.3 percent in the year-ago quarter.\"\n",
      "\n",
      "Now, let's extract the exact values:\n",
      "\n",
      "* **Total Revenue:** $89.5 billion\n",
      "* **Net Income:** $23.0 billion\n",
      "* **Gross Margin:** 45.2%\n",
      "\n",
      "To verify these values, I'll check if they're consistent with other information in the text. For example, the sentence \"Quarterly revenue of $89.5 billion\" doesn't mention a year-over-year change, but it does provide the absolute value. The Net Income value is also consistent with the statement that it's up from $20.7 billion in the previous year.\n",
      "\n",
      "All values appear to be accurate and consistent within the text.\n"
     ]
    }
   ],
   "source": [
    "print(\"\\n=== AGENTIC RAG APPROACH ===\")\n",
    "agentic_result, plan = extract_with_agentic_rag(sample_financial_text)\n",
    "print(\"Planning Stage:\")\n",
    "print(plan)\n",
    "print(\"\\nExtraction Result:\")\n",
    "print(agentic_result)"
   ]
  },
  {
   "cell_type": "code",
   "execution_count": 59,
   "metadata": {},
   "outputs": [
    {
     "name": "stdout",
     "output_type": "stream",
     "text": [
      "\n",
      "=== GROUND TRUTH ===\n",
      "Total Revenue: $89.5 billion\n",
      "Net Income: $23.0 billion\n",
      "Gross Margin: 45.2%\n"
     ]
    }
   ],
   "source": [
    "\n",
    "# Compare with ground truth\n",
    "ground_truth = {\n",
    "    \"Total Revenue\": \"$89.5 billion\",\n",
    "    \"Net Income\": \"$23.0 billion\",\n",
    "    \"Gross Margin\": \"45.2%\"\n",
    "}\n",
    "\n",
    "print(\"\\n=== GROUND TRUTH ===\")\n",
    "for metric, value in ground_truth.items():\n",
    "    print(f\"{metric}: {value}\")"
   ]
  },
  {
   "cell_type": "markdown",
   "metadata": {},
   "source": [
    "Best: Both standard and agentic RAGs are able to get the right info."
   ]
  },
  {
   "cell_type": "code",
   "execution_count": null,
   "metadata": {},
   "outputs": [],
   "source": []
  },
  {
   "cell_type": "code",
   "execution_count": null,
   "metadata": {},
   "outputs": [],
   "source": []
  }
 ],
 "metadata": {
  "kernelspec": {
   "display_name": "base",
   "language": "python",
   "name": "python3"
  },
  "language_info": {
   "codemirror_mode": {
    "name": "ipython",
    "version": 3
   },
   "file_extension": ".py",
   "mimetype": "text/x-python",
   "name": "python",
   "nbconvert_exporter": "python",
   "pygments_lexer": "ipython3",
   "version": "3.11.5"
  }
 },
 "nbformat": 4,
 "nbformat_minor": 2
}
